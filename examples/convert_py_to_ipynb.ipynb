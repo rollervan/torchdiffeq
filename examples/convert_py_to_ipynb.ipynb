{
 "cells": [
  {
   "cell_type": "code",
   "execution_count": 8,
   "metadata": {},
   "outputs": [
    {
     "name": "stdout",
     "output_type": "stream",
     "text": [
      "[jupytext] Reading examples/odenet_mnist.py in format py\n",
      "[jupytext] Writing examples/odenet_mnist.ipynb (destination file replaced)\n",
      "[jupytext] Reading examples/cnf.py in format py\n",
      "[jupytext] Writing examples/cnf.ipynb\n"
     ]
    }
   ],
   "source": [
    "!pip install jupytext\n",
    "!jupytext --to notebook examples/odenet_mnist.py\n",
    "!jupytext --to notebook examples/cnf.py\n",
    "!jupytext --to notebook examples/latent_ode.py\n",
    "!jupytext --to notebook examples/ode_demo.py"
   ]
  }
 ],
 "metadata": {
  "kernelspec": {
   "display_name": "Python 3",
   "language": "python",
   "name": "python3"
  },
  "language_info": {
   "codemirror_mode": {
    "name": "ipython",
    "version": 3
   },
   "file_extension": ".py",
   "mimetype": "text/x-python",
   "name": "python",
   "nbconvert_exporter": "python",
   "pygments_lexer": "ipython3",
   "version": "3.6.12"
  }
 },
 "nbformat": 4,
 "nbformat_minor": 4
}
